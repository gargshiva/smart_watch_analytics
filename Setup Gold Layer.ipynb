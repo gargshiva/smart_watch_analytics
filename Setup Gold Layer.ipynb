{
 "cells": [
  {
   "cell_type": "code",
   "execution_count": 0,
   "metadata": {
    "application/vnd.databricks.v1+cell": {
     "cellMetadata": {
      "byteLimit": 2048000,
      "implicitDf": true,
      "rowLimit": 10000
     },
     "inputWidgets": {},
     "nuid": "5126218a-45d6-4cb1-93cb-f2dc952379a5",
     "showTitle": false,
     "tableResultSettingsMap": {},
     "title": ""
    }
   },
   "outputs": [
    {
     "output_type": "display_data",
     "data": {
      "text/html": [
       "<style scoped>\n",
       "  .table-result-container {\n",
       "    max-height: 300px;\n",
       "    overflow: auto;\n",
       "  }\n",
       "  table, th, td {\n",
       "    border: 1px solid black;\n",
       "    border-collapse: collapse;\n",
       "  }\n",
       "  th, td {\n",
       "    padding: 5px;\n",
       "  }\n",
       "  th {\n",
       "    text-align: left;\n",
       "  }\n",
       "</style><div class='table-result-container'><table class='table-result'><thead style='background-color: white'><tr></tr></thead><tbody></tbody></table></div>"
      ]
     },
     "metadata": {
      "application/vnd.databricks.v1+output": {
       "addedWidgets": {},
       "aggData": [],
       "aggError": "",
       "aggOverflow": false,
       "aggSchema": [],
       "aggSeriesLimitReached": false,
       "aggType": "",
       "arguments": {},
       "columnCustomDisplayInfos": {},
       "data": [],
       "datasetInfos": [],
       "dbfsResultPath": null,
       "isJsonSchema": true,
       "metadata": {
        "dataframeName": null
       },
       "overflow": false,
       "plotOptions": {
        "customPlotOptions": {},
        "displayType": "table",
        "pivotAggregation": null,
        "pivotColumns": null,
        "xColumns": null,
        "yColumns": null
       },
       "removedWidgets": [],
       "schema": [],
       "type": "table"
      }
     },
     "output_type": "display_data"
    }
   ],
   "source": [
    "%sql\n",
    "drop database if exists dev.swatch_consumption cascade;"
   ]
  },
  {
   "cell_type": "code",
   "execution_count": 0,
   "metadata": {
    "application/vnd.databricks.v1+cell": {
     "cellMetadata": {
      "byteLimit": 2048000,
      "rowLimit": 10000
     },
     "inputWidgets": {},
     "nuid": "20dc9fbf-88b3-447d-b43f-e80f31eb7f2b",
     "showTitle": false,
     "tableResultSettingsMap": {},
     "title": ""
    }
   },
   "outputs": [],
   "source": [
    "class SetupGoldLayer:\n",
    "    def __init__(self):\n",
    "        self.catalog_name = \"dev\"\n",
    "        self.gold_layer_schema_name = \"swatch_consumption\"\n",
    "        self.gym_summary_table_name = \"gym_summary\"\n",
    "        self.workout_bpm_summary_table_name = \"workout_bpm_summary\""
   ]
  },
  {
   "cell_type": "code",
   "execution_count": 0,
   "metadata": {
    "application/vnd.databricks.v1+cell": {
     "cellMetadata": {
      "byteLimit": 2048000,
      "rowLimit": 10000
     },
     "inputWidgets": {},
     "nuid": "ab75df34-02f0-404a-bfc0-5c10ba2cc061",
     "showTitle": false,
     "tableResultSettingsMap": {},
     "title": ""
    }
   },
   "outputs": [],
   "source": [
    "class CreateGoldLayerTables(SetupGoldLayer):\n",
    "    def __init__(self):\n",
    "        super().__init__()\n",
    "    \n",
    "    def create_gold_layer_schema(self):\n",
    "        spark.sql(f\"create schema if not exists {self.catalog_name}.{self.gold_layer_schema_name}\")\n",
    "    \n",
    "    def create_gym_summary_table(self):\n",
    "        spark.sql(f\"\"\" \n",
    "                  create table if not exists {self.catalog_name}.{self.gold_layer_schema_name}.{self.gym_summary_table_name}\n",
    "                  (\n",
    "                    gym_id string,\n",
    "                    mac_address timestamp,\n",
    "                    `date` date,\n",
    "                    workouts string,\n",
    "                    minutes_in_gym double,\n",
    "                    minutes_exercising double\n",
    "                  ) using delta\n",
    "                  \"\"\")\n",
    "        print(f\"Table Created - {self.catalog_name}.{self.gold_layer_schema_name}.{self.gym_summary_table_name}\")\n",
    "\n",
    "    def create_workout_bpm_summary_table(self):\n",
    "        spark.sql(f\"\"\" \n",
    "                  create table if not exists {self.catalog_name}.{self.gold_layer_schema_name}.{self.workout_bpm_summary_table_name}\n",
    "                  (\n",
    "                      user_id string,\n",
    "                      `date` date,\n",
    "                      workout_id string,\n",
    "                      session_id int,\n",
    "                      sex string,\n",
    "                      city string,\n",
    "                      state string,\n",
    "                      recordings int,\n",
    "                      max_hr double,\n",
    "                      min_hr double,\n",
    "                      avg_hr double\n",
    "                  ) using delta\n",
    "                  \"\"\")\n",
    "        \n",
    "        print(f\"Table Created - {self.catalog_name}.{self.gold_layer_schema_name}.{self.workout_bpm_summary_table_name}\")\n",
    "    \n",
    "    \n",
    "    def create_tables(self):\n",
    "        self.create_gold_layer_schema()\n",
    "        self.create_gym_summary_table()\n",
    "        self.create_workout_bpm_summary_table()\n"
   ]
  },
  {
   "cell_type": "code",
   "execution_count": 0,
   "metadata": {
    "application/vnd.databricks.v1+cell": {
     "cellMetadata": {
      "byteLimit": 2048000,
      "rowLimit": 10000
     },
     "inputWidgets": {},
     "nuid": "402033d4-92c9-46f6-9d7a-5103b6261652",
     "showTitle": false,
     "tableResultSettingsMap": {},
     "title": ""
    }
   },
   "outputs": [],
   "source": [
    "# Create the checkpoint volumes\n",
    "class  CreateGoldLayerCheckpointDirs(SetupGoldLayer):\n",
    "    def __init__(self):\n",
    "        super().__init__()\n",
    "\n",
    "    def create_gym_summary_table_checkpoint(self):\n",
    "        spark.sql(f\"create external volume if not exists {self.catalog_name}.{self.gold_layer_schema_name}.{self.gym_summary_table_name}_checkpoint location 'abfss://smart-watch-analytics@dbstorageact.dfs.core.windows.net/swatch-checkpoint/gym_summary/' \")\n",
    "                \n",
    "        print(f\"Checkpoint Volume Created - {self.catalog_name}.{self.gold_layer_schema_name}.{self.gym_summary_table_name}_checkpoint\")\n",
    "    \n",
    "    def create_workout_bpm_summary_table_checkpoint(self):\n",
    "        spark.sql(f\"create external volume if not exists {self.catalog_name}.{self.gold_layer_schema_name}.{self.workout_bpm_summary_table_name}_checkpoint location 'abfss://smart-watch-analytics@dbstorageact.dfs.core.windows.net/swatch-checkpoint/workout_bpm_summary/' \")\n",
    "                \n",
    "        print(f\"Checkpoint Volume Created - {self.catalog_name}.{self.gold_layer_schema_name}.{self.workout_bpm_summary_table_name}_checkpoint\")\n",
    "\n",
    "\n",
    "    def create_gold_layer_checkpoint_volumes(self):\n",
    "        self.create_gym_summary_table_checkpoint()\n",
    "        self.create_workout_bpm_summary_table_checkpoint()\n",
    "        print(\"Gold layer checkpoint volumes created successfully ! \\n\")"
   ]
  },
  {
   "cell_type": "code",
   "execution_count": 0,
   "metadata": {
    "application/vnd.databricks.v1+cell": {
     "cellMetadata": {
      "byteLimit": 2048000,
      "rowLimit": 10000
     },
     "inputWidgets": {},
     "nuid": "48480a81-edc2-441a-a660-3e07206f36c5",
     "showTitle": false,
     "tableResultSettingsMap": {},
     "title": ""
    }
   },
   "outputs": [
    {
     "output_type": "stream",
     "name": "stdout",
     "output_type": "stream",
     "text": [
      "Table Created - dev.swatch_consumption.gym_summary\nTable Created - dev.swatch_consumption.workout_bpm_summary\nCheckpoint Volume Created - dev.swatch_consumption.gym_summary_checkpoint\nCheckpoint Volume Created - dev.swatch_consumption.workout_bpm_summary_checkpoint\nGold layer checkpoint volumes created successfully ! \n\n"
     ]
    }
   ],
   "source": [
    "tables = CreateGoldLayerTables()\n",
    "tables.create_tables()\n",
    "\n",
    "checkpoints = CreateGoldLayerCheckpointDirs()\n",
    "checkpoints.create_gold_layer_checkpoint_volumes()"
   ]
  }
 ],
 "metadata": {
  "application/vnd.databricks.v1+notebook": {
   "computePreferences": null,
   "dashboards": [],
   "environmentMetadata": {
    "base_environment": "",
    "client": "1"
   },
   "language": "python",
   "notebookMetadata": {
    "mostRecentlyExecutedCommandWithImplicitDF": {
     "commandId": 2516285304519367,
     "dataframes": [
      "_sqldf"
     ]
    },
    "pythonIndentUnit": 4
   },
   "notebookName": "Setup Gold Layer",
   "widgets": {}
  },
  "language_info": {
   "name": "python"
  }
 },
 "nbformat": 4,
 "nbformat_minor": 0
}