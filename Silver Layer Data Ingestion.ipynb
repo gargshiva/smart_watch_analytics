{
 "cells": [
  {
   "cell_type": "code",
   "execution_count": 0,
   "metadata": {
    "application/vnd.databricks.v1+cell": {
     "cellMetadata": {
      "byteLimit": 2048000,
      "rowLimit": 10000
     },
     "inputWidgets": {},
     "nuid": "2eb760d5-fc4a-4e8a-9d25-86686e76b05d",
     "showTitle": false,
     "tableResultSettingsMap": {},
     "title": ""
    }
   },
   "outputs": [],
   "source": [
    "class SilverLayer:\n",
    "    def __init__(self):\n",
    "        self.catalog_name = \"dev\"\n",
    "        self.silver_layer_schema_name = \"swatch_staging\"\n",
    "        self.bronze_layer_schema_name = \"swatch_raw\"\n",
    "        self.user_profile_table_name = \"user_profile\"\n",
    "        self.workout_session__table_name = \"workout_session\"\n",
    "        self.complete_workout_table_name = \"completed_workouts\"\n",
    "        self.device_registration_table_name = 'device_registration'\n",
    "        self.bpm_table = 'bpm'\n",
    "        self.workout_bpm_table_name = \"workout_bpm\"\n",
    "        self.gym_attendance_table = 'gym_attendance'\n",
    "\n",
    "    "
   ]
  },
  {
   "cell_type": "code",
   "execution_count": 0,
   "metadata": {
    "application/vnd.databricks.v1+cell": {
     "cellMetadata": {
      "byteLimit": 2048000,
      "rowLimit": 10000
     },
     "inputWidgets": {},
     "nuid": "6d59ea13-8140-42cb-8f9b-5e4d2cff62ca",
     "showTitle": false,
     "tableResultSettingsMap": {},
     "title": ""
    }
   },
   "outputs": [],
   "source": [
    "from pyspark.sql.functions import *\n",
    "from pyspark.sql.window import Window\n",
    "\n",
    "# CDC Events -> Update , New , delete\n",
    "# Ignore the delete events\n",
    "class CDCUpsert:\n",
    "    def __init__(self,merge_query,view_name):\n",
    "        self.merge_query = merge_query\n",
    "        self.view_name = view_name\n",
    "    \n",
    "    # ForEachBatch doesn't use the state store , Hence Spark doesn't persis any state.\n",
    "    def upsert(self,micro_batch_df,batch_id):\n",
    "        # Take the latest record within the microbatch\n",
    "        window = Window.partitionBy(\"user_id\").orderBy(col(\"event_timestamp\").desc())\n",
    "        micro_batch_latest_df = (micro_batch_df\n",
    "                                 .withColumn(\"event_type\",lower(col(\"event_type\")))\n",
    "                                 .where(\"event_type in ('update','new')\")\n",
    "                                 .withColumn(\"rk\",row_number().over(window))\n",
    "                                 .filter(col(\"rk\") == 1)\n",
    "                                )\n",
    "        micro_batch_latest_df.createOrReplaceTempView(self.view_name)\n",
    "        micro_batch_latest_df._jdf.sparkSession().sql(self.merge_query)\n",
    "\n",
    "\n",
    "class UserProfileCDC(SilverLayer):\n",
    "    def __init__(self):\n",
    "        super().__init__()\n",
    "    \n",
    "    def load_raw_data(self):\n",
    "        # read from the raw layer table\n",
    "        raw_df = (spark\n",
    "                  .readStream\n",
    "                  .table(f\"{self.catalog_name}.{self.bronze_layer_schema_name}.{self.user_profile_table_name}\")\n",
    "                  .selectExpr(\"user_id\",\"update_type\",\"timestamp\",\"dob\",\"sex\",\"gender\",\"first_name\",\"last_name\",\"address.*\")\n",
    "                  .withColumnRenamed(\"update_type\",\"event_type\")\n",
    "                  .withColumnRenamed(\"timestamp\",\"event_timestamp\")\n",
    "                  .withColumn(\"event_timestamp\",col(\"event_timestamp\").cast(\"timestamp\"))\n",
    "                  .withColumn(\"dob\",to_date(col(\"dob\"),\"mm/dd/yyyy\"))\n",
    "                  )\n",
    "        return raw_df\n",
    "    \n",
    "    merge_query = f\"\"\" \n",
    "         MERGE INTO dev.swatch_staging.user_profile as T\n",
    "         using cdc_user_profile_view as S\n",
    "         on T.user_id = S.user_id and T.event_timestamp > S.event_timestamp\n",
    "         when matched then update set *\n",
    "         when not matched then insert *\n",
    "        \"\"\"\n",
    "    \n",
    "    cdc = CDCUpsert(merge_query,\"cdc_user_profile_view\")\n",
    "\n",
    "    def apply_cdc_changes(self,raw_df):\n",
    "        streaming_query = (raw_df\n",
    "                           .writeStream\n",
    "                           .queryName(\"user_profile_cdc_streaming\")\n",
    "                           .format(\"delta\")\n",
    "                           .foreachBatch(self.cdc.upsert)\n",
    "                           .outputMode(\"update\")\n",
    "                           .trigger(processingTime=\"10 seconds\")\n",
    "                           .option(\"checkpointLocation\", \"/Volumes/dev/swatch_staging/user_profile_checkpoint\")\n",
    "                           .start()\n",
    "                           )\n",
    "        return streaming_query"
   ]
  },
  {
   "cell_type": "code",
   "execution_count": 0,
   "metadata": {
    "application/vnd.databricks.v1+cell": {
     "cellMetadata": {
      "byteLimit": 2048000,
      "rowLimit": 10000
     },
     "inputWidgets": {},
     "nuid": "b92d11a9-e7eb-4a2d-95d6-dc1db2b7df1f",
     "showTitle": false,
     "tableResultSettingsMap": {},
     "title": ""
    }
   },
   "outputs": [],
   "source": [
    "user_profile = UserProfileCDC()\n",
    "streaming_query = user_profile.apply_cdc_changes(user_profile.load_raw_data())"
   ]
  },
  {
   "cell_type": "code",
   "execution_count": 0,
   "metadata": {
    "application/vnd.databricks.v1+cell": {
     "cellMetadata": {
      "byteLimit": 2048000,
      "rowLimit": 10000
     },
     "inputWidgets": {},
     "nuid": "c3a7676b-fc69-4060-98f4-ac3ce154d400",
     "showTitle": false,
     "tableResultSettingsMap": {},
     "title": ""
    }
   },
   "outputs": [],
   "source": [
    "streaming_query.stop()"
   ]
  },
  {
   "cell_type": "code",
   "execution_count": 0,
   "metadata": {
    "application/vnd.databricks.v1+cell": {
     "cellMetadata": {
      "byteLimit": 2048000,
      "implicitDf": true,
      "rowLimit": 10000
     },
     "inputWidgets": {},
     "nuid": "b210eb96-ce99-4363-90be-37cb46693e72",
     "showTitle": false,
     "tableResultSettingsMap": {},
     "title": ""
    }
   },
   "outputs": [
    {
     "output_type": "display_data",
     "data": {
      "text/html": [
       "<style scoped>\n",
       "  .table-result-container {\n",
       "    max-height: 300px;\n",
       "    overflow: auto;\n",
       "  }\n",
       "  table, th, td {\n",
       "    border: 1px solid black;\n",
       "    border-collapse: collapse;\n",
       "  }\n",
       "  th, td {\n",
       "    padding: 5px;\n",
       "  }\n",
       "  th {\n",
       "    text-align: left;\n",
       "  }\n",
       "</style><div class='table-result-container'><table class='table-result'><thead style='background-color: white'><tr><th>user_id</th><th>event_timestamp</th><th>dob</th><th>sex</th><th>gender</th><th>first_name</th><th>last_name</th><th>street_address</th><th>city</th><th>state</th><th>zip</th></tr></thead><tbody><tr><td>11745</td><td>2023-03-10T12:34:41Z</td><td>1955-01-29</td><td>F</td><td>F</td><td>Shannon</td><td>Reyes</td><td>3105 Bowers Expressway</td><td>Long Beach</td><td>CA</td><td>90808</td></tr><tr><td>12140</td><td>2023-03-10T12:33:45Z</td><td>1999-01-02</td><td>M</td><td>M</td><td>Robert</td><td>Castillo</td><td>68994 Steven Vista</td><td>Pearblossom</td><td>CA</td><td>93553</td></tr><tr><td>12227</td><td>2023-03-10T12:40:28Z</td><td>1949-01-11</td><td>F</td><td>F</td><td>Courtney</td><td>Sheppard</td><td>47754 Angela Plaza Apt. 135</td><td>Los Angeles</td><td>CA</td><td>90010</td></tr><tr><td>12474</td><td>2023-03-10T12:26:08Z</td><td>1939-01-25</td><td>M</td><td>M</td><td>Matthew</td><td>Phillips</td><td>02648 Wilkins Cliffs Suite 998</td><td>San Fernando</td><td>CA</td><td>91340</td></tr><tr><td>13559</td><td>2023-03-10T12:34:10Z</td><td>1980-01-06</td><td>F</td><td>F</td><td>Victoria</td><td>Smith</td><td>634 Acevedo Mountain</td><td>Santa Monica</td><td>CA</td><td>90405</td></tr><tr><td>13937</td><td>2023-03-11T12:50:37Z</td><td>1982-01-26</td><td>M</td><td>M</td><td>Matthew</td><td>Johnson</td><td>9231 Edward Throughway Suite 072</td><td>Toluca Lake</td><td>CA</td><td>91610</td></tr><tr><td>14232</td><td>2023-03-11T12:51:38Z</td><td>1979-01-04</td><td>M</td><td>M</td><td>Edward</td><td>Smith</td><td>41444 Noble Cape Suite 390</td><td>North Hollywood</td><td>CA</td><td>91606</td></tr><tr><td>14508</td><td>2023-03-11T12:50:25Z</td><td>1936-01-28</td><td>M</td><td>M</td><td>Justin</td><td>Eaton</td><td>04952 Lori Plain</td><td>Sierra Madre</td><td>CA</td><td>91024</td></tr><tr><td>14633</td><td>2023-03-11T12:47:10Z</td><td>1997-01-04</td><td>F</td><td>F</td><td>Hannah</td><td>Fuller</td><td>81346 Obrien Streets</td><td>Gardena</td><td>CA</td><td>90249</td></tr><tr><td>15149</td><td>2023-03-11T12:51:42Z</td><td>1972-01-30</td><td>M</td><td>M</td><td>Cameron</td><td>Vasquez</td><td>95932 Gary Ridges</td><td>Los Angeles</td><td>CA</td><td>90018</td></tr></tbody></table></div>"
      ]
     },
     "metadata": {
      "application/vnd.databricks.v1+output": {
       "addedWidgets": {},
       "aggData": [],
       "aggError": "",
       "aggOverflow": false,
       "aggSchema": [],
       "aggSeriesLimitReached": false,
       "aggType": "",
       "arguments": {},
       "columnCustomDisplayInfos": {},
       "data": [
        [
         "11745",
         "2023-03-10T12:34:41Z",
         "1955-01-29",
         "F",
         "F",
         "Shannon",
         "Reyes",
         "3105 Bowers Expressway",
         "Long Beach",
         "CA",
         "90808"
        ],
        [
         "12140",
         "2023-03-10T12:33:45Z",
         "1999-01-02",
         "M",
         "M",
         "Robert",
         "Castillo",
         "68994 Steven Vista",
         "Pearblossom",
         "CA",
         "93553"
        ],
        [
         "12227",
         "2023-03-10T12:40:28Z",
         "1949-01-11",
         "F",
         "F",
         "Courtney",
         "Sheppard",
         "47754 Angela Plaza Apt. 135",
         "Los Angeles",
         "CA",
         "90010"
        ],
        [
         "12474",
         "2023-03-10T12:26:08Z",
         "1939-01-25",
         "M",
         "M",
         "Matthew",
         "Phillips",
         "02648 Wilkins Cliffs Suite 998",
         "San Fernando",
         "CA",
         "91340"
        ],
        [
         "13559",
         "2023-03-10T12:34:10Z",
         "1980-01-06",
         "F",
         "F",
         "Victoria",
         "Smith",
         "634 Acevedo Mountain",
         "Santa Monica",
         "CA",
         "90405"
        ],
        [
         "13937",
         "2023-03-11T12:50:37Z",
         "1982-01-26",
         "M",
         "M",
         "Matthew",
         "Johnson",
         "9231 Edward Throughway Suite 072",
         "Toluca Lake",
         "CA",
         "91610"
        ],
        [
         "14232",
         "2023-03-11T12:51:38Z",
         "1979-01-04",
         "M",
         "M",
         "Edward",
         "Smith",
         "41444 Noble Cape Suite 390",
         "North Hollywood",
         "CA",
         "91606"
        ],
        [
         "14508",
         "2023-03-11T12:50:25Z",
         "1936-01-28",
         "M",
         "M",
         "Justin",
         "Eaton",
         "04952 Lori Plain",
         "Sierra Madre",
         "CA",
         "91024"
        ],
        [
         "14633",
         "2023-03-11T12:47:10Z",
         "1997-01-04",
         "F",
         "F",
         "Hannah",
         "Fuller",
         "81346 Obrien Streets",
         "Gardena",
         "CA",
         "90249"
        ],
        [
         "15149",
         "2023-03-11T12:51:42Z",
         "1972-01-30",
         "M",
         "M",
         "Cameron",
         "Vasquez",
         "95932 Gary Ridges",
         "Los Angeles",
         "CA",
         "90018"
        ]
       ],
       "datasetInfos": [],
       "dbfsResultPath": null,
       "isJsonSchema": true,
       "metadata": {
        "createTempViewForImplicitDf": true,
        "dataframeName": "_sqldf",
        "executionCount": 33
       },
       "overflow": false,
       "plotOptions": {
        "customPlotOptions": {},
        "displayType": "table",
        "pivotAggregation": null,
        "pivotColumns": null,
        "xColumns": null,
        "yColumns": null
       },
       "removedWidgets": [],
       "schema": [
        {
         "metadata": "{}",
         "name": "user_id",
         "type": "\"string\""
        },
        {
         "metadata": "{}",
         "name": "event_timestamp",
         "type": "\"timestamp\""
        },
        {
         "metadata": "{}",
         "name": "dob",
         "type": "\"date\""
        },
        {
         "metadata": "{}",
         "name": "sex",
         "type": "\"string\""
        },
        {
         "metadata": "{}",
         "name": "gender",
         "type": "\"string\""
        },
        {
         "metadata": "{}",
         "name": "first_name",
         "type": "\"string\""
        },
        {
         "metadata": "{}",
         "name": "last_name",
         "type": "\"string\""
        },
        {
         "metadata": "{}",
         "name": "street_address",
         "type": "\"string\""
        },
        {
         "metadata": "{}",
         "name": "city",
         "type": "\"string\""
        },
        {
         "metadata": "{}",
         "name": "state",
         "type": "\"string\""
        },
        {
         "metadata": "{}",
         "name": "zip",
         "type": "\"string\""
        }
       ],
       "type": "table"
      }
     },
     "output_type": "display_data"
    }
   ],
   "source": [
    "%sql\n",
    "select * from dev.swatch_staging.user_profile;"
   ]
  },
  {
   "cell_type": "code",
   "execution_count": 0,
   "metadata": {
    "application/vnd.databricks.v1+cell": {
     "cellMetadata": {
      "byteLimit": 2048000,
      "rowLimit": 10000
     },
     "inputWidgets": {},
     "nuid": "a83086e4-e44c-44ee-bba6-c2066b6e5cd2",
     "showTitle": false,
     "tableResultSettingsMap": {},
     "title": ""
    }
   },
   "outputs": [],
   "source": [
    "from pyspark.sql.functions import *\n",
    "\n",
    "class CompleteWorkoutIngestion(SilverLayer):\n",
    "    def __init__(self):\n",
    "        super().__init__()\n",
    "\n",
    "    def compute_workout(self):\n",
    "        # Stream to Stream Join \n",
    "        # Both of the stream will be save to state store to find the matching events.\n",
    "\n",
    "        # Stream 1 - Start Events\n",
    "        workout_start_df = (spark\n",
    "                  .readStream\n",
    "                  .table(f\"{self.catalog_name}.{self.bronze_layer_schema_name}.{self.workout_session__table_name}\")\n",
    "                  .withColumnRenamed(\"timestamp\",\"start_time\")\n",
    "                  .withColumn(\"start_time\",col(\"start_time\").cast(\"timestamp\"))\n",
    "                  .filter(col(\"action\") == \"start\")\n",
    "                  # Assumption - Workout can go max for 3 hours\n",
    "                  # Events which is older than 180 minutes of the latest event will be dropped from state store.\n",
    "                  # Latest Event - 10:20:15 AM , all the events before 07:20:15 AM will be dropped from state store.\n",
    "\n",
    "                  # Workout start events at 10:20:15 AM\n",
    "                  .withWatermark(\"start_time\", \"185 minutes\")\n",
    "                  )\n",
    "        \n",
    "         # Stream 1 - Stop Events\n",
    "        workout_end_df = (spark\n",
    "                  .readStream\n",
    "                  .table(f\"{self.catalog_name}.{self.bronze_layer_schema_name}.{self.workout_session__table_name}\")\n",
    "                  .withColumnRenamed(\"timestamp\",\"end_time\")\n",
    "                  .withColumn(\"end_time\",col(\"end_time\").cast(\"timestamp\"))\n",
    "                  .filter(col(\"action\") == \"stop\")\n",
    "                  .withWatermark(\"end_time\", \"60 seconds\")\n",
    "                  )\n",
    "        \n",
    "        # Stream to Stream inner Join\n",
    "        joined_condition = [workout_start_df.user_id == workout_end_df.user_id , workout_start_df.workout_id == workout_end_df.workout_id , workout_start_df.session_id == workout_end_df.session_id]\n",
    "        \n",
    "        joined_df = (workout_start_df\n",
    "                     .join(workout_end_df,joined_condition,\"inner\")\n",
    "                     .select(workout_start_df.user_id,workout_start_df.workout_id,workout_start_df.session_id,workout_start_df.start_time,workout_end_df.end_time)\n",
    "                     )\n",
    "        return joined_df\n",
    "\n",
    "    \n",
    "    def persist_complete_workout_df(self,joined_df):\n",
    "        complete_workout_streaming_query = (joined_df\n",
    "                        .writeStream\n",
    "                        .queryName(\"complete_workout_streaming_query\")\n",
    "                        .format(\"delta\")\n",
    "                        .outputMode(\"append\")\n",
    "                        .trigger(processingTime=\"10 seconds\")\n",
    "                        .option(\"checkpointLocation\", \"/Volumes/dev/swatch_staging/completed_workouts_checkpoint\")\n",
    "                        .toTable(f\"{self.catalog_name}.{self.silver_layer_schema_name}.{self.complete_workout_table_name}\")\n",
    "                        )\n",
    "        return complete_workout_streaming_query\n",
    "\n"
   ]
  },
  {
   "cell_type": "code",
   "execution_count": 0,
   "metadata": {
    "application/vnd.databricks.v1+cell": {
     "cellMetadata": {
      "byteLimit": 2048000,
      "rowLimit": 10000
     },
     "inputWidgets": {},
     "nuid": "dff3c281-7f83-419f-bdb9-9147ffdb1caf",
     "showTitle": false,
     "tableResultSettingsMap": {},
     "title": ""
    }
   },
   "outputs": [],
   "source": [
    "complete_workout = CompleteWorkoutIngestion()\n",
    "df = complete_workout.compute_workout()\n",
    "complete_workout_streaming_query=complete_workout.persist_complete_workout_df(df)"
   ]
  },
  {
   "cell_type": "code",
   "execution_count": 0,
   "metadata": {
    "application/vnd.databricks.v1+cell": {
     "cellMetadata": {
      "byteLimit": 2048000,
      "rowLimit": 10000
     },
     "inputWidgets": {},
     "nuid": "4e0aff52-c79a-4947-9a25-0d6f9ab580ac",
     "showTitle": false,
     "tableResultSettingsMap": {},
     "title": ""
    }
   },
   "outputs": [],
   "source": [
    "complete_workout_streaming_query.stop()"
   ]
  },
  {
   "cell_type": "code",
   "execution_count": 0,
   "metadata": {
    "application/vnd.databricks.v1+cell": {
     "cellMetadata": {
      "byteLimit": 2048000,
      "implicitDf": true,
      "rowLimit": 10000
     },
     "inputWidgets": {},
     "nuid": "2d0b03dc-f362-407c-a56d-4c91e0ce2bb3",
     "showTitle": false,
     "tableResultSettingsMap": {},
     "title": ""
    }
   },
   "outputs": [
    {
     "output_type": "display_data",
     "data": {
      "text/html": [
       "<style scoped>\n",
       "  .table-result-container {\n",
       "    max-height: 300px;\n",
       "    overflow: auto;\n",
       "  }\n",
       "  table, th, td {\n",
       "    border: 1px solid black;\n",
       "    border-collapse: collapse;\n",
       "  }\n",
       "  th, td {\n",
       "    padding: 5px;\n",
       "  }\n",
       "  th {\n",
       "    text-align: left;\n",
       "  }\n",
       "</style><div class='table-result-container'><table class='table-result'><thead style='background-color: white'><tr><th>user_id</th><th>workout_id</th><th>session_id</th><th>start_time</th><th>end_time</th></tr></thead><tbody><tr><td>13559</td><td>1</td><td>2</td><td>2023-03-11T19:05:00Z</td><td>2023-03-11T19:55:00Z</td></tr><tr><td>15149</td><td>1</td><td>1</td><td>2023-03-12T08:35:00Z</td><td>2023-03-12T09:35:00Z</td></tr><tr><td>12474</td><td>1</td><td>1</td><td>2023-03-11T08:05:00Z</td><td>2023-03-11T09:10:00Z</td></tr><tr><td>14508</td><td>1</td><td>1</td><td>2023-03-12T08:05:00Z</td><td>2023-03-12T08:55:00Z</td></tr><tr><td>14633</td><td>1</td><td>2</td><td>2023-03-12T18:05:00Z</td><td>2023-03-12T18:35:00Z</td></tr><tr><td>14633</td><td>1</td><td>1</td><td>2023-03-12T08:05:00Z</td><td>2023-03-12T08:45:00Z</td></tr><tr><td>13559</td><td>1</td><td>1</td><td>2023-03-11T08:20:00Z</td><td>2023-03-11T09:25:00Z</td></tr><tr><td>12227</td><td>1</td><td>1</td><td>2023-03-11T08:45:00Z</td><td>2023-03-11T09:50:00Z</td></tr><tr><td>12140</td><td>1</td><td>1</td><td>2023-03-11T08:20:00Z</td><td>2023-03-11T08:55:00Z</td></tr><tr><td>14508</td><td>1</td><td>2</td><td>2023-03-12T18:15:00Z</td><td>2023-03-12T18:50:00Z</td></tr><tr><td>11745</td><td>1</td><td>1</td><td>2023-03-11T08:35:00Z</td><td>2023-03-11T09:35:00Z</td></tr><tr><td>14232</td><td>1</td><td>1</td><td>2023-03-12T08:22:00Z</td><td>2023-03-12T09:08:00Z</td></tr><tr><td>13937</td><td>1</td><td>1</td><td>2023-03-12T08:15:00Z</td><td>2023-03-12T08:55:00Z</td></tr><tr><td>12227</td><td>1</td><td>2</td><td>2023-03-11T19:32:00Z</td><td>2023-03-11T20:35:00Z</td></tr><tr><td>11745</td><td>1</td><td>2</td><td>2023-03-11T19:25:00Z</td><td>2023-03-11T20:10:00Z</td></tr><tr><td>13937</td><td>1</td><td>2</td><td>2023-03-12T18:30:00Z</td><td>2023-03-12T19:30:00Z</td></tr></tbody></table></div>"
      ]
     },
     "metadata": {
      "application/vnd.databricks.v1+output": {
       "addedWidgets": {},
       "aggData": [],
       "aggError": "",
       "aggOverflow": false,
       "aggSchema": [],
       "aggSeriesLimitReached": false,
       "aggType": "",
       "arguments": {},
       "columnCustomDisplayInfos": {},
       "data": [
        [
         "13559",
         "1",
         2,
         "2023-03-11T19:05:00Z",
         "2023-03-11T19:55:00Z"
        ],
        [
         "15149",
         "1",
         1,
         "2023-03-12T08:35:00Z",
         "2023-03-12T09:35:00Z"
        ],
        [
         "12474",
         "1",
         1,
         "2023-03-11T08:05:00Z",
         "2023-03-11T09:10:00Z"
        ],
        [
         "14508",
         "1",
         1,
         "2023-03-12T08:05:00Z",
         "2023-03-12T08:55:00Z"
        ],
        [
         "14633",
         "1",
         2,
         "2023-03-12T18:05:00Z",
         "2023-03-12T18:35:00Z"
        ],
        [
         "14633",
         "1",
         1,
         "2023-03-12T08:05:00Z",
         "2023-03-12T08:45:00Z"
        ],
        [
         "13559",
         "1",
         1,
         "2023-03-11T08:20:00Z",
         "2023-03-11T09:25:00Z"
        ],
        [
         "12227",
         "1",
         1,
         "2023-03-11T08:45:00Z",
         "2023-03-11T09:50:00Z"
        ],
        [
         "12140",
         "1",
         1,
         "2023-03-11T08:20:00Z",
         "2023-03-11T08:55:00Z"
        ],
        [
         "14508",
         "1",
         2,
         "2023-03-12T18:15:00Z",
         "2023-03-12T18:50:00Z"
        ],
        [
         "11745",
         "1",
         1,
         "2023-03-11T08:35:00Z",
         "2023-03-11T09:35:00Z"
        ],
        [
         "14232",
         "1",
         1,
         "2023-03-12T08:22:00Z",
         "2023-03-12T09:08:00Z"
        ],
        [
         "13937",
         "1",
         1,
         "2023-03-12T08:15:00Z",
         "2023-03-12T08:55:00Z"
        ],
        [
         "12227",
         "1",
         2,
         "2023-03-11T19:32:00Z",
         "2023-03-11T20:35:00Z"
        ],
        [
         "11745",
         "1",
         2,
         "2023-03-11T19:25:00Z",
         "2023-03-11T20:10:00Z"
        ],
        [
         "13937",
         "1",
         2,
         "2023-03-12T18:30:00Z",
         "2023-03-12T19:30:00Z"
        ]
       ],
       "datasetInfos": [],
       "dbfsResultPath": null,
       "isJsonSchema": true,
       "metadata": {
        "createTempViewForImplicitDf": true,
        "dataframeName": "_sqldf",
        "executionCount": 1
       },
       "overflow": false,
       "plotOptions": {
        "customPlotOptions": {},
        "displayType": "table",
        "pivotAggregation": null,
        "pivotColumns": null,
        "xColumns": null,
        "yColumns": null
       },
       "removedWidgets": [],
       "schema": [
        {
         "metadata": "{}",
         "name": "user_id",
         "type": "\"string\""
        },
        {
         "metadata": "{}",
         "name": "workout_id",
         "type": "\"string\""
        },
        {
         "metadata": "{}",
         "name": "session_id",
         "type": "\"integer\""
        },
        {
         "metadata": "{}",
         "name": "start_time",
         "type": "\"timestamp\""
        },
        {
         "metadata": "{}",
         "name": "end_time",
         "type": "\"timestamp\""
        }
       ],
       "type": "table"
      }
     },
     "output_type": "display_data"
    }
   ],
   "source": [
    "%sql\n",
    "select * from dev.swatch_staging.completed_workouts;"
   ]
  },
  {
   "cell_type": "code",
   "execution_count": 0,
   "metadata": {
    "application/vnd.databricks.v1+cell": {
     "cellMetadata": {
      "byteLimit": 2048000,
      "rowLimit": 10000
     },
     "inputWidgets": {},
     "nuid": "bab5e8e5-2f3b-412c-9524-d0ade8c344f9",
     "showTitle": false,
     "tableResultSettingsMap": {},
     "title": ""
    }
   },
   "outputs": [],
   "source": [
    "from pyspark.sql.functions import *\n",
    "from pyspark.sql.window import Window\n",
    "\n",
    "class WorkoutBPMIngestion(SilverLayer):\n",
    "    def __init__(self):\n",
    "        super().__init__()\n",
    "\n",
    "    # Workout stream needs to be joined with the device_registration (static dataframe)\n",
    "    def load_complete_workout_stream(self):\n",
    "        device_registration_df = (spark\n",
    "                                  .read\n",
    "                                  .table(f\"{self.catalog_name}.{self.bronze_layer_schema_name}.{self.device_registration_table_name}\")\n",
    "                                  )\n",
    "        \n",
    "        # Stream to static DF join doesn't store any state in the statestore\n",
    "        workout_stream_df = (spark\n",
    "                          .readStream\n",
    "                          .table(f\"{self.catalog_name}.{self.silver_layer_schema_name}.{self.complete_workout_table_name}\")\n",
    "                          .join(device_registration_df,\"user_id\",\"inner\")\n",
    "                          .select(device_registration_df.user_id,device_registration_df.device_id,col('workout_id'),col('session_id'),col('start_time'),col('end_time'))\n",
    "                          .withWatermark(\"end_time\", \"60 seconds\")\n",
    "                          )\n",
    "        return workout_stream_df\n",
    "    \n",
    "    def load_bpm_stream(self):\n",
    "        bpm_stream_df = (spark\n",
    "                      .readStream\n",
    "                      .table(f\"{self.catalog_name}.{self.bronze_layer_schema_name}.{self.bpm_table}\")\n",
    "                      .withColumnRenamed(\"time\",\"event_time\")\n",
    "                      .withColumn(\"event_time\",col(\"event_time\").cast(\"timestamp\"))\n",
    "                      .withWatermark(\"event_time\", \"60 seconds\")\n",
    "                      )\n",
    "        return bpm_stream_df\n",
    "    \n",
    "    # bpm_event_time must be between workout_start_time and workout_end_time\n",
    "    # Workout can be of maximum 3 hours\n",
    "    # BPM event can only be used for max 3 hours. Lets say BPM event send at start of workout , so can be used max for 3 hours window.\n",
    "    def join_bpm_and_workout(self,bpm_stream_df,workout_stream_df):\n",
    "        join_condition = [workout_stream_df.device_id == bpm_stream_df.device_id, bpm_stream_df.event_time >= workout_stream_df.start_time, bpm_stream_df.event_time <= workout_stream_df.end_time,workout_stream_df.end_time < bpm_stream_df.event_time + expr('interval 3 hour')]\n",
    "\n",
    "        bpm_workout_stream_df = (workout_stream_df\n",
    "                              .join(bpm_stream_df, join_condition, \"inner\")\n",
    "                              .select(workout_stream_df.user_id,workout_stream_df.device_id,workout_stream_df.workout_id,workout_stream_df.session_id,workout_stream_df.start_time,workout_stream_df.end_time,bpm_stream_df.heartrate)\n",
    "                              )\n",
    "        \n",
    "        return bpm_workout_stream_df\n",
    "    \n",
    "    def persist_bpm_workout_df(self,bpm_workout_stream_df):\n",
    "        bpm_workout_stream_query = (bpm_workout_stream_df\n",
    "                 .writeStream\n",
    "                 .queryName(\"bpm_workout_stream_query\")\n",
    "                 .outputMode(\"append\")\n",
    "                 .trigger(processingTime=\"10 seconds\")\n",
    "                 .option(\"checkpointLocation\", \"/Volumes/dev/swatch_staging/workout_bpm_checkpoint\")\n",
    "                 .toTable(f\"{self.catalog_name}.{self.silver_layer_schema_name}.{self.workout_bpm_table_name}\")\n",
    "                 )\n",
    "        return bpm_workout_stream_query\n",
    "\n",
    "    "
   ]
  },
  {
   "cell_type": "code",
   "execution_count": 0,
   "metadata": {
    "application/vnd.databricks.v1+cell": {
     "cellMetadata": {
      "byteLimit": 2048000,
      "rowLimit": 10000
     },
     "inputWidgets": {},
     "nuid": "71e6d21c-ae2d-46f8-9270-cdd1776b2976",
     "showTitle": false,
     "tableResultSettingsMap": {},
     "title": ""
    }
   },
   "outputs": [],
   "source": [
    "workout_bpm = WorkoutBPMIngestion()\n",
    "workout_stream = workout_bpm.load_complete_workout_stream()\n",
    "bpm_stream = workout_bpm.load_bpm_stream()\n",
    "bpm_workout_stream = workout_bpm.join_bpm_and_workout(bpm_stream,workout_stream)\n",
    "bpm_workout_stream_query= workout_bpm.persist_bpm_workout_df(bpm_workout_stream)\n"
   ]
  },
  {
   "cell_type": "code",
   "execution_count": 0,
   "metadata": {
    "application/vnd.databricks.v1+cell": {
     "cellMetadata": {},
     "inputWidgets": {},
     "nuid": "a2c7865c-21f5-4c66-b49d-a542b201cc01",
     "showTitle": false,
     "tableResultSettingsMap": {},
     "title": ""
    }
   },
   "outputs": [],
   "source": [
    "bpm_workout_stream_query.stop()"
   ]
  },
  {
   "cell_type": "code",
   "execution_count": 0,
   "metadata": {
    "application/vnd.databricks.v1+cell": {
     "cellMetadata": {
      "byteLimit": 2048000,
      "implicitDf": true,
      "rowLimit": 10000
     },
     "inputWidgets": {},
     "nuid": "e93ebb56-6372-4d99-91a2-714559f273ff",
     "showTitle": false,
     "tableResultSettingsMap": {},
     "title": ""
    }
   },
   "outputs": [
    {
     "output_type": "display_data",
     "data": {
      "text/html": [
       "<style scoped>\n",
       "  .table-result-container {\n",
       "    max-height: 300px;\n",
       "    overflow: auto;\n",
       "  }\n",
       "  table, th, td {\n",
       "    border: 1px solid black;\n",
       "    border-collapse: collapse;\n",
       "  }\n",
       "  th, td {\n",
       "    padding: 5px;\n",
       "  }\n",
       "  th {\n",
       "    text-align: left;\n",
       "  }\n",
       "</style><div class='table-result-container'><table class='table-result'><thead style='background-color: white'><tr><th>user_id</th></tr></thead><tbody><tr><td>14633</td></tr></tbody></table></div>"
      ]
     },
     "metadata": {
      "application/vnd.databricks.v1+output": {
       "addedWidgets": {},
       "aggData": [],
       "aggError": "",
       "aggOverflow": false,
       "aggSchema": [],
       "aggSeriesLimitReached": false,
       "aggType": "",
       "arguments": {},
       "columnCustomDisplayInfos": {},
       "data": [
        [
         "14633"
        ]
       ],
       "datasetInfos": [],
       "dbfsResultPath": null,
       "isJsonSchema": true,
       "metadata": {
        "createTempViewForImplicitDf": true,
        "dataframeName": "_sqldf",
        "executionCount": 9
       },
       "overflow": false,
       "plotOptions": {
        "customPlotOptions": {},
        "displayType": "table",
        "pivotAggregation": null,
        "pivotColumns": null,
        "xColumns": null,
        "yColumns": null
       },
       "removedWidgets": [],
       "schema": [
        {
         "metadata": "{}",
         "name": "user_id",
         "type": "\"string\""
        }
       ],
       "type": "table"
      }
     },
     "output_type": "display_data"
    }
   ],
   "source": [
    "%sql\n",
    "select distinct user_id from dev.swatch_staging.workout_bpm;"
   ]
  }
 ],
 "metadata": {
  "application/vnd.databricks.v1+notebook": {
   "computePreferences": null,
   "dashboards": [],
   "environmentMetadata": {
    "base_environment": "",
    "client": "1"
   },
   "language": "python",
   "notebookMetadata": {
    "mostRecentlyExecutedCommandWithImplicitDF": {
     "commandId": 186168979607101,
     "dataframes": [
      "_sqldf"
     ]
    },
    "pythonIndentUnit": 4
   },
   "notebookName": "Silver Layer Data Ingestion",
   "widgets": {}
  },
  "language_info": {
   "name": "python"
  }
 },
 "nbformat": 4,
 "nbformat_minor": 0
}