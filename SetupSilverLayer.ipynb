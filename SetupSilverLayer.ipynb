{
 "cells": [
  {
   "cell_type": "code",
   "execution_count": 0,
   "metadata": {
    "application/vnd.databricks.v1+cell": {
     "cellMetadata": {
      "byteLimit": 2048000,
      "implicitDf": true,
      "rowLimit": 10000
     },
     "inputWidgets": {},
     "nuid": "928b6445-5c60-4639-b70a-5f7edbab926d",
     "showTitle": false,
     "tableResultSettingsMap": {},
     "title": ""
    }
   },
   "outputs": [
    {
     "output_type": "display_data",
     "data": {
      "text/html": [
       "<style scoped>\n",
       "  .table-result-container {\n",
       "    max-height: 300px;\n",
       "    overflow: auto;\n",
       "  }\n",
       "  table, th, td {\n",
       "    border: 1px solid black;\n",
       "    border-collapse: collapse;\n",
       "  }\n",
       "  th, td {\n",
       "    padding: 5px;\n",
       "  }\n",
       "  th {\n",
       "    text-align: left;\n",
       "  }\n",
       "</style><div class='table-result-container'><table class='table-result'><thead style='background-color: white'><tr></tr></thead><tbody></tbody></table></div>"
      ]
     },
     "metadata": {
      "application/vnd.databricks.v1+output": {
       "addedWidgets": {},
       "aggData": [],
       "aggError": "",
       "aggOverflow": false,
       "aggSchema": [],
       "aggSeriesLimitReached": false,
       "aggType": "",
       "arguments": {},
       "columnCustomDisplayInfos": {},
       "data": [],
       "datasetInfos": [],
       "dbfsResultPath": null,
       "isJsonSchema": true,
       "metadata": {
        "dataframeName": null
       },
       "overflow": false,
       "plotOptions": {
        "customPlotOptions": {},
        "displayType": "table",
        "pivotAggregation": null,
        "pivotColumns": null,
        "xColumns": null,
        "yColumns": null
       },
       "removedWidgets": [],
       "schema": [],
       "type": "table"
      }
     },
     "output_type": "display_data"
    }
   ],
   "source": [
    "%sql\n",
    "drop database if exists dev.swatch_staging cascade;"
   ]
  },
  {
   "cell_type": "code",
   "execution_count": 0,
   "metadata": {
    "application/vnd.databricks.v1+cell": {
     "cellMetadata": {
      "byteLimit": 2048000,
      "implicitDf": true,
      "rowLimit": 10000
     },
     "inputWidgets": {},
     "nuid": "9d24a86e-871e-45b0-9902-d061371992af",
     "showTitle": false,
     "tableResultSettingsMap": {},
     "title": ""
    }
   },
   "outputs": [
    {
     "output_type": "display_data",
     "data": {
      "text/html": [
       "<style scoped>\n",
       "  .table-result-container {\n",
       "    max-height: 300px;\n",
       "    overflow: auto;\n",
       "  }\n",
       "  table, th, td {\n",
       "    border: 1px solid black;\n",
       "    border-collapse: collapse;\n",
       "  }\n",
       "  th, td {\n",
       "    padding: 5px;\n",
       "  }\n",
       "  th {\n",
       "    text-align: left;\n",
       "  }\n",
       "</style><div class='table-result-container'><table class='table-result'><thead style='background-color: white'><tr></tr></thead><tbody></tbody></table></div>"
      ]
     },
     "metadata": {
      "application/vnd.databricks.v1+output": {
       "addedWidgets": {},
       "aggData": [],
       "aggError": "",
       "aggOverflow": false,
       "aggSchema": [],
       "aggSeriesLimitReached": false,
       "aggType": "",
       "arguments": {},
       "columnCustomDisplayInfos": {},
       "data": [],
       "datasetInfos": [],
       "dbfsResultPath": null,
       "isJsonSchema": true,
       "metadata": {
        "dataframeName": null
       },
       "overflow": false,
       "plotOptions": {
        "customPlotOptions": {},
        "displayType": "table",
        "pivotAggregation": null,
        "pivotColumns": null,
        "xColumns": null,
        "yColumns": null
       },
       "removedWidgets": [],
       "schema": [],
       "type": "table"
      }
     },
     "output_type": "display_data"
    }
   ],
   "source": [
    "%sql\n",
    "drop table if exists dev.swatch_staging.workout_bpm;"
   ]
  },
  {
   "cell_type": "code",
   "execution_count": 0,
   "metadata": {
    "application/vnd.databricks.v1+cell": {
     "cellMetadata": {
      "byteLimit": 2048000,
      "rowLimit": 10000
     },
     "inputWidgets": {},
     "nuid": "d504ac22-9c4a-4d42-97c0-6b9bcf2ea816",
     "showTitle": false,
     "tableResultSettingsMap": {},
     "title": ""
    }
   },
   "outputs": [],
   "source": [
    "class SetupSilverLayer:\n",
    "    def __init__(self):\n",
    "        self.catalog_name = \"dev\"\n",
    "        self.silver_layer_schema_name = \"swatch_staging\"\n",
    "        self.user_profile_table_name = \"user_profile\"\n",
    "        self.complete_workout_table_name = \"completed_workouts\"\n",
    "        self.workout_bpm_table_name = \"workout_bpm\""
   ]
  },
  {
   "cell_type": "code",
   "execution_count": 0,
   "metadata": {
    "application/vnd.databricks.v1+cell": {
     "cellMetadata": {
      "byteLimit": 2048000,
      "rowLimit": 10000
     },
     "inputWidgets": {},
     "nuid": "789879e8-ce24-4c80-8628-e011a5ea7252",
     "showTitle": false,
     "tableResultSettingsMap": {},
     "title": ""
    }
   },
   "outputs": [],
   "source": [
    "class CreateSilverLayerTables(SetupSilverLayer):\n",
    "    def __init__(self):\n",
    "        super().__init__()\n",
    "    \n",
    "    def create_silver_layer_schema(self):\n",
    "        spark.sql(f\"create schema if not exists {self.catalog_name}.{self.silver_layer_schema_name}\")\n",
    "    \n",
    "    def create_user_profile_table(self):\n",
    "        spark.sql(f\"\"\" \n",
    "                  create table if not exists {self.catalog_name}.{self.silver_layer_schema_name}.{self.user_profile_table_name}\n",
    "                  (\n",
    "                    user_id string,\n",
    "                    event_timestamp timestamp,\n",
    "                    dob date,\n",
    "                    sex string,\n",
    "                    gender string,\n",
    "                    first_name string,\n",
    "                    last_name string,\n",
    "                    street_address string, \n",
    "                    city string, \n",
    "                    state string, \n",
    "                    zip string\n",
    "                  ) using delta\n",
    "                  \"\"\")\n",
    "        print(f\"Table Created - {self.catalog_name}.{self.silver_layer_schema_name}.{self.user_profile_table_name}\")\n",
    "\n",
    "    def create_complete_workout_session_table(self):\n",
    "        spark.sql(f\"\"\" \n",
    "                  create table if not exists {self.catalog_name}.{self.silver_layer_schema_name}.{self.complete_workout_table_name}\n",
    "                  (\n",
    "                      user_id string,\n",
    "                      workout_id string,\n",
    "                      session_id int,\n",
    "                      start_time timestamp,\n",
    "                      end_time timestamp\n",
    "                  ) using delta\n",
    "                  \"\"\")\n",
    "        \n",
    "        print(f\"Table Created - {self.catalog_name}.{self.silver_layer_schema_name}.{self.complete_workout_table_name}\")\n",
    "    \n",
    "    def create_workout_bpm_table(self):\n",
    "        spark.sql(f\"\"\" \n",
    "                  create table  if not exists  {self.catalog_name}.{self.silver_layer_schema_name}.{self.workout_bpm_table_name}\n",
    "                  (\n",
    "                      user_id string,\n",
    "                      device_id long,\n",
    "                      workout_id string,\n",
    "                      session_id int,\n",
    "                      start_time timestamp,\n",
    "                      end_time timestamp,\n",
    "                      heartrate double\n",
    "                  ) using delta\n",
    "                  \"\"\")\n",
    "        \n",
    "        print(f\"Table Created - {self.catalog_name}.{self.silver_layer_schema_name}.{self.workout_bpm_table_name}\")\n",
    "    \n",
    "    def create_tables(self):\n",
    "        self.create_silver_layer_schema()\n",
    "        self.create_user_profile_table()\n",
    "        self.create_complete_workout_session_table()\n",
    "        self.create_workout_bpm_table()\n"
   ]
  },
  {
   "cell_type": "code",
   "execution_count": 0,
   "metadata": {
    "application/vnd.databricks.v1+cell": {
     "cellMetadata": {
      "byteLimit": 2048000,
      "rowLimit": 10000
     },
     "inputWidgets": {},
     "nuid": "ff3e9efe-ae90-4158-b0f4-8dc597726b98",
     "showTitle": false,
     "tableResultSettingsMap": {},
     "title": ""
    }
   },
   "outputs": [],
   "source": [
    "class CreateSilverLayerCheckpoints(SetupSilverLayer):\n",
    "    def __init__(self):\n",
    "        super().__init__()\n",
    "    \n",
    "    def create_user_profile_checkpoint(self):\n",
    "        spark.sql(f\"create external volume if not exists {self.catalog_name}.{self.silver_layer_schema_name}.{self.user_profile_table_name}_checkpoint location 'abfss://smart-watch-analytics@dbstorageact.dfs.core.windows.net/swatch-checkpoint/staging_user_profile/' \")\n",
    "\n",
    "        print(f\"Checkpoint Created - {self.catalog_name}.{self.silver_layer_schema_name}.{self.user_profile_table_name}_checkpoint\")\n",
    "    \n",
    "    def create_complete_workout_checkpoint(self):\n",
    "        spark.sql(f\"create external volume if not exists {self.catalog_name}.{self.silver_layer_schema_name}.{self.complete_workout_table_name}_checkpoint location 'abfss://smart-watch-analytics@dbstorageact.dfs.core.windows.net/swatch-checkpoint/staging_completed_workouts/' \")\n",
    "\n",
    "        print(f\"Checkpoint Created - {self.catalog_name}.{self.silver_layer_schema_name}.{self.complete_workout_table_name}_checkpoint\")\n",
    "        \n",
    "    def create_workout_bpm_checkpoint(self):\n",
    "        spark.sql(f\"create external volume if not exists {self.catalog_name}.{self.silver_layer_schema_name}.{self.workout_bpm_table_name}_checkpoint location 'abfss://smart-watch-analytics@dbstorageact.dfs.core.windows.net/swatch-checkpoint/workout_bpm/' \")\n",
    "\n",
    "        print(f\"Checkpoint Created - {self.catalog_name}.{self.silver_layer_schema_name}.{self.workout_bpm_table_name}_checkpoint\")\n",
    "\n",
    "    def create_checkpoints(self):\n",
    "        self.create_user_profile_checkpoint()\n",
    "        self.create_complete_workout_checkpoint()\n",
    "        self.create_workout_bpm_checkpoint()\n"
   ]
  },
  {
   "cell_type": "code",
   "execution_count": 0,
   "metadata": {
    "application/vnd.databricks.v1+cell": {
     "cellMetadata": {
      "byteLimit": 2048000,
      "rowLimit": 10000
     },
     "inputWidgets": {},
     "nuid": "5cff15b4-06a6-47b0-9d60-d963d94eedd6",
     "showTitle": false,
     "tableResultSettingsMap": {},
     "title": ""
    }
   },
   "outputs": [
    {
     "output_type": "stream",
     "name": "stdout",
     "output_type": "stream",
     "text": [
      "Table Created - dev.swatch_staging.user_profile\nTable Created - dev.swatch_staging.completed_workouts\nTable Created - dev.swatch_staging.workout_bpm\nCheckpoint Created - dev.swatch_staging.user_profile_checkpoint\nCheckpoint Created - dev.swatch_staging.completed_workouts_checkpoint\nCheckpoint Created - dev.swatch_staging.workout_bpm_checkpoint\n"
     ]
    }
   ],
   "source": [
    "silver_layer_tables = CreateSilverLayerTables()\n",
    "silver_layer_tables.create_tables()\n",
    "\n",
    "silver_layer_checkpoints = CreateSilverLayerCheckpoints()\n",
    "silver_layer_checkpoints.create_checkpoints()\n"
   ]
  }
 ],
 "metadata": {
  "application/vnd.databricks.v1+notebook": {
   "computePreferences": null,
   "dashboards": [],
   "environmentMetadata": {
    "base_environment": "",
    "client": "1"
   },
   "language": "python",
   "notebookMetadata": {
    "mostRecentlyExecutedCommandWithImplicitDF": {
     "commandId": 2516285304519362,
     "dataframes": [
      "_sqldf"
     ]
    },
    "pythonIndentUnit": 4
   },
   "notebookName": "SetupSilverLayer",
   "widgets": {}
  },
  "language_info": {
   "name": "python"
  }
 },
 "nbformat": 4,
 "nbformat_minor": 0
}