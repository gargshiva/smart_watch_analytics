{
 "cells": [
  {
   "cell_type": "code",
   "execution_count": 0,
   "metadata": {
    "application/vnd.databricks.v1+cell": {
     "cellMetadata": {
      "byteLimit": 2048000,
      "rowLimit": 10000
     },
     "inputWidgets": {},
     "nuid": "0f2b2f72-fcd1-40de-88e0-2409a371312e",
     "showTitle": false,
     "tableResultSettingsMap": {},
     "title": ""
    }
   },
   "outputs": [],
   "source": [
    "class GoldLayer:\n",
    "    def __init__(self):\n",
    "        self.catalog_name = \"dev\"\n",
    "        self.gold_layer_schema_name = \"swatch_consumption\"\n",
    "        self.silver_layer_schema_name = \"swatch_staging\"\n",
    "        self.bronze_layer_schema_name = \"swatch_raw\"\n",
    "        self.gym_summary_table_name = \"gym_summary\"\n",
    "        self.workout_bpm_summary_table_name = \"workout_bpm_summary\"\n",
    "        self.workout_bpm_table_name = \"workout_bpm\"\n",
    "        self.user_profile_table_name = \"user_profile\"\n",
    "        self.device_registration_table_name = 'device_registration'"
   ]
  },
  {
   "cell_type": "code",
   "execution_count": 0,
   "metadata": {
    "application/vnd.databricks.v1+cell": {
     "cellMetadata": {
      "byteLimit": 2048000,
      "rowLimit": 10000
     },
     "inputWidgets": {},
     "nuid": "5a3ed4a1-a911-4e95-98cd-e26650657546",
     "showTitle": false,
     "tableResultSettingsMap": {},
     "title": ""
    }
   },
   "outputs": [],
   "source": [
    "from pyspark.sql.functions import *\n",
    "\n",
    "class WorkoutBpmReport(GoldLayer):\n",
    "    def __init__(self):\n",
    "        super().__init__()\n",
    "\n",
    "    users = spark.read.table(\"dev.swatch_staging.user_profile\")\n",
    "\n",
    "    def ingest_workout_bpm_summary(self):\n",
    "        workout_bpm_stream_df = (spark\n",
    "                                 .readStream\n",
    "                                 .table(f\"{self.catalog_name}.{self.silver_layer_schema_name}.{self.workout_bpm_table_name}\")\n",
    "                                 .withColumn('date',col(\"end_time\").cast(\"date\"))\n",
    "                                 .withWatermark(\"end_time\", \"120 seconds\")\n",
    "                                 .groupBy(\"user_id\", \"workout_id\",\"session_id\",\"date\")\n",
    "                                 .agg(avg(\"heartrate\").alias(\"avg_hr\"),max(\"heartrate\").alias(\"max_hr\"),min(\"heartrate\").alias(\"min_hr\"),count(\"heartrate\").alias(\"recordings\"))\n",
    "                                 \n",
    "                                 .join(self.users, \"user_id\",\"inner\")\n",
    "                                 .select(\"user_id\",\"date\",\"workout_id\",\"session_id\",\"sex\",\"city\",\"state\",\"avg_hr\",\"max_hr\",\"min_hr\",\"recordings\")\n",
    "                                 )\n",
    "        return workout_bpm_stream_df\n",
    "    \n",
    "    def upsert(self,final_df,batch_id):\n",
    "        final_df.createOrReplaceTempView(\"workout_bpm_summary\")\n",
    "        merge_query = \"\"\"\n",
    "        MERGE into dev.swatch_consumption.workout_bpm_summary as T\n",
    "        using workout_bpm_summary s\n",
    "        on T.user_id = s.user_id and T.date = s.date and T.workout_id = s.workout_id and T.session_id = s.session_id\n",
    "        when matched then update set *\n",
    "        when not matched then insert *\n",
    "        \"\"\"\n",
    "        final_df._jdf.sparkSession().sql(merge_query)\n",
    "    \n",
    "    def write_workout_bpm_summary(self,df):\n",
    "        workout_bpm_summary_query = (df\n",
    "                 .writeStream\n",
    "                 .queryName(\"workout_bpm_summary_query\")\n",
    "                 .outputMode(\"update\")\n",
    "                 .option(\"checkpointLocation\",\"/Volumes/dev/swatch_consumption/workout_bpm_summary_checkpoint\")\n",
    "                 .foreachBatch(self.upsert)\n",
    "                 .start()\n",
    "                 )\n",
    "        return workout_bpm_summary_query\n",
    "    \n",
    "        \n",
    "\n",
    "\n"
   ]
  },
  {
   "cell_type": "code",
   "execution_count": 0,
   "metadata": {
    "application/vnd.databricks.v1+cell": {
     "cellMetadata": {
      "byteLimit": 2048000,
      "rowLimit": 10000
     },
     "inputWidgets": {},
     "nuid": "263d215a-b2aa-43a0-854c-c59c1fe13095",
     "showTitle": false,
     "tableResultSettingsMap": {},
     "title": ""
    }
   },
   "outputs": [
    {
     "output_type": "execute_result",
     "data": {
      "text/plain": [
       "<pyspark.sql.streaming.query.StreamingQuery at 0xffff5814cb10>"
      ]
     },
     "execution_count": 18,
     "metadata": {},
     "output_type": "execute_result"
    }
   ],
   "source": [
    "workout_bpm_report = WorkoutBpmReport()\n",
    "df = workout_bpm_report.ingest_workout_bpm_summary()\n",
    "workout_bpm_summary_query= workout_bpm_report.write_workout_bpm_summary(df)"
   ]
  },
  {
   "cell_type": "code",
   "execution_count": 0,
   "metadata": {
    "application/vnd.databricks.v1+cell": {
     "cellMetadata": {
      "byteLimit": 2048000,
      "rowLimit": 10000
     },
     "inputWidgets": {},
     "nuid": "cfc3792d-b6e2-4c76-9b4f-642ea8b13759",
     "showTitle": false,
     "tableResultSettingsMap": {},
     "title": ""
    }
   },
   "outputs": [
    {
     "output_type": "display_data",
     "data": {
      "text/plain": [
       "\u001B[0;31m---------------------------------------------------------------------------\u001B[0m\n",
       "\u001B[0;31mNameError\u001B[0m                                 Traceback (most recent call last)\n",
       "File \u001B[0;32m<command-1172548824997626>, line 1\u001B[0m\n",
       "\u001B[0;32m----> 1\u001B[0m workout_bpm_summary_query\u001B[38;5;241m.\u001B[39mstop()\n",
       "\n",
       "\u001B[0;31mNameError\u001B[0m: name 'workout_bpm_summary_query' is not defined"
      ]
     },
     "metadata": {
      "application/vnd.databricks.v1+output": {
       "addedWidgets": {},
       "arguments": {},
       "datasetInfos": [],
       "jupyterProps": {
        "ename": "NameError",
        "evalue": "name 'workout_bpm_summary_query' is not defined"
       },
       "metadata": {
        "errorSummary": "<span class='ansi-red-fg'>NameError</span>: name 'workout_bpm_summary_query' is not defined"
       },
       "removedWidgets": [],
       "sqlProps": null,
       "stackFrames": [
        "\u001B[0;31m---------------------------------------------------------------------------\u001B[0m",
        "\u001B[0;31mNameError\u001B[0m                                 Traceback (most recent call last)",
        "File \u001B[0;32m<command-1172548824997626>, line 1\u001B[0m\n\u001B[0;32m----> 1\u001B[0m workout_bpm_summary_query\u001B[38;5;241m.\u001B[39mstop()\n",
        "\u001B[0;31mNameError\u001B[0m: name 'workout_bpm_summary_query' is not defined"
       ],
       "type": "baseError"
      }
     },
     "output_type": "display_data"
    }
   ],
   "source": [
    "workout_bpm_summary_query.stop()"
   ]
  },
  {
   "cell_type": "code",
   "execution_count": 0,
   "metadata": {
    "application/vnd.databricks.v1+cell": {
     "cellMetadata": {
      "byteLimit": 2048000,
      "implicitDf": true,
      "rowLimit": 10000
     },
     "inputWidgets": {},
     "nuid": "38fe4dba-b89e-4ab6-9740-0f8441a24cac",
     "showTitle": false,
     "tableResultSettingsMap": {},
     "title": ""
    }
   },
   "outputs": [
    {
     "output_type": "display_data",
     "data": {
      "text/html": [
       "<style scoped>\n",
       "  .table-result-container {\n",
       "    max-height: 300px;\n",
       "    overflow: auto;\n",
       "  }\n",
       "  table, th, td {\n",
       "    border: 1px solid black;\n",
       "    border-collapse: collapse;\n",
       "  }\n",
       "  th, td {\n",
       "    padding: 5px;\n",
       "  }\n",
       "  th {\n",
       "    text-align: left;\n",
       "  }\n",
       "</style><div class='table-result-container'><table class='table-result'><thead style='background-color: white'><tr><th>user_id</th><th>date</th><th>workout_id</th><th>session_id</th><th>sex</th><th>city</th><th>state</th><th>recordings</th><th>max_hr</th><th>min_hr</th><th>avg_hr</th></tr></thead><tbody><tr><td>14633</td><td>2023-03-12</td><td>1</td><td>1</td><td>F</td><td>Gardena</td><td>CA</td><td>137</td><td>94.17238125635576</td><td>35.89084608323042</td><td>66.52234303183477</td></tr><tr><td>14633</td><td>2023-03-12</td><td>1</td><td>2</td><td>F</td><td>Gardena</td><td>CA</td><td>89</td><td>94.95989143953022</td><td>35.30786301539906</td><td>62.25988311813774</td></tr></tbody></table></div>"
      ]
     },
     "metadata": {
      "application/vnd.databricks.v1+output": {
       "addedWidgets": {},
       "aggData": [],
       "aggError": "",
       "aggOverflow": false,
       "aggSchema": [],
       "aggSeriesLimitReached": false,
       "aggType": "",
       "arguments": {},
       "columnCustomDisplayInfos": {},
       "data": [
        [
         "14633",
         "2023-03-12",
         "1",
         1,
         "F",
         "Gardena",
         "CA",
         137,
         94.17238125635576,
         35.89084608323042,
         66.52234303183477
        ],
        [
         "14633",
         "2023-03-12",
         "1",
         2,
         "F",
         "Gardena",
         "CA",
         89,
         94.95989143953022,
         35.30786301539906,
         62.25988311813774
        ]
       ],
       "datasetInfos": [],
       "dbfsResultPath": null,
       "isJsonSchema": true,
       "metadata": {
        "createTempViewForImplicitDf": true,
        "dataframeName": "_sqldf",
        "executionCount": 19
       },
       "overflow": false,
       "plotOptions": {
        "customPlotOptions": {},
        "displayType": "table",
        "pivotAggregation": null,
        "pivotColumns": null,
        "xColumns": null,
        "yColumns": null
       },
       "removedWidgets": [],
       "schema": [
        {
         "metadata": "{}",
         "name": "user_id",
         "type": "\"string\""
        },
        {
         "metadata": "{}",
         "name": "date",
         "type": "\"date\""
        },
        {
         "metadata": "{}",
         "name": "workout_id",
         "type": "\"string\""
        },
        {
         "metadata": "{}",
         "name": "session_id",
         "type": "\"integer\""
        },
        {
         "metadata": "{}",
         "name": "sex",
         "type": "\"string\""
        },
        {
         "metadata": "{}",
         "name": "city",
         "type": "\"string\""
        },
        {
         "metadata": "{}",
         "name": "state",
         "type": "\"string\""
        },
        {
         "metadata": "{}",
         "name": "recordings",
         "type": "\"integer\""
        },
        {
         "metadata": "{}",
         "name": "max_hr",
         "type": "\"double\""
        },
        {
         "metadata": "{}",
         "name": "min_hr",
         "type": "\"double\""
        },
        {
         "metadata": "{}",
         "name": "avg_hr",
         "type": "\"double\""
        }
       ],
       "type": "table"
      }
     },
     "output_type": "display_data"
    }
   ],
   "source": [
    "%sql\n",
    "\n",
    "select * from dev.swatch_consumption.workout_bpm_summary;"
   ]
  },
  {
   "cell_type": "code",
   "execution_count": 0,
   "metadata": {
    "application/vnd.databricks.v1+cell": {
     "cellMetadata": {
      "byteLimit": 2048000,
      "rowLimit": 10000
     },
     "inputWidgets": {},
     "nuid": "87e41636-91db-4c90-bd95-c9abf70c4e7f",
     "showTitle": false,
     "tableResultSettingsMap": {},
     "title": ""
    }
   },
   "outputs": [],
   "source": [
    "from pyspark.sql.functions import *\n",
    "\n",
    "class GymSummaryReport(GoldLayer):\n",
    "    def __init__(self):\n",
    "        super().__init__()\n",
    "    \n",
    "    # static Table\n",
    "    gym_logs = spark.read.table(\"dev.swatch_staging.user_profile\")\n",
    "\n",
    "    def ingest_gym_summary(self):\n",
    "        # static Table\n",
    "        device_registration_df = (spark\n",
    "                                  .read\n",
    "                                  .table(f\"{self.catalog_name}.{self.bronze_layer_schema_name}.{self.device_registration_table_name}\")\n",
    "                                  )\n",
    "        \n",
    "        processed_df = (spark.read.table(\"dev.swatch_raw.gym_attendance\")\n",
    "                        .withColumn(\"minutes_in_gym\",round((col(\"logout_time\") - col(\"login_time\"))/60))\n",
    "                        .withColumn(\"login_time\",col(\"login_time\").cast(\"timestamp\"))\n",
    "                        .withColumn(\"logout_time\",col(\"logout_time\").cast(\"timestamp\"))\n",
    "                        .withColumn(\"date\",col(\"logout_time\").cast(\"date\"))\n",
    "                        .join(device_registration_df,\"mac_address\",\"inner\")\n",
    "                        .select(col(\"user_id\"),device_registration_df.mac_address,col(\"gym_id\"),col(\"login_time\"),col(\"logout_time\"),col(\"minutes_in_gym\"),col(\"date\"))\n",
    "                        )\n",
    "        \n",
    "        completed_workout_stream_df = (spark\n",
    "                                       .read\n",
    "                                       .table('dev.swatch_staging.completed_workouts')\n",
    "                                       .withColumn(\"exercise_time\",round(col(\"end_time\").cast(\"long\") - col(\"start_time\").cast(\"long\"))/60)\n",
    "                                       )\n",
    "        \n",
    "        join_condition = [processed_df.user_id == completed_workout_stream_df.user_id,processed_df.login_time <= completed_workout_stream_df.start_time , processed_df.logout_time >= completed_workout_stream_df.end_time]\n",
    "\n",
    "        gym_workout_report = (completed_workout_stream_df\n",
    "                              .join(processed_df,join_condition,\"inner\")\n",
    "                              .select(processed_df.user_id,col(\"mac_address\"),col(\"date\"),col(\"workout_id\"),col(\"minutes_in_gym\"),col(\"exercise_time\"))\n",
    "                              .groupBy(processed_df.user_id,col(\"mac_address\"),col(\"date\"),col(\"workout_id\"),col(\"minutes_in_gym\"))\n",
    "                              .agg(sum(col(\"exercise_time\")).alias(\"minutes_exercising\"))\n",
    "                              )\n",
    "        \n",
    "        gym_workout_report.display()\n",
    "        #spark.write.mode(\"override\").table(\"dev.swatch_consumption.gym_summary\")"
   ]
  },
  {
   "cell_type": "code",
   "execution_count": 0,
   "metadata": {
    "application/vnd.databricks.v1+cell": {
     "cellMetadata": {
      "byteLimit": 2048000,
      "rowLimit": 10000
     },
     "inputWidgets": {},
     "nuid": "f30c6690-9c70-4ae5-864e-60efb3bdeccb",
     "showTitle": false,
     "tableResultSettingsMap": {},
     "title": ""
    }
   },
   "outputs": [
    {
     "output_type": "display_data",
     "data": {
      "text/html": [
       "<style scoped>\n",
       "  .table-result-container {\n",
       "    max-height: 300px;\n",
       "    overflow: auto;\n",
       "  }\n",
       "  table, th, td {\n",
       "    border: 1px solid black;\n",
       "    border-collapse: collapse;\n",
       "  }\n",
       "  th, td {\n",
       "    padding: 5px;\n",
       "  }\n",
       "  th {\n",
       "    text-align: left;\n",
       "  }\n",
       "</style><div class='table-result-container'><table class='table-result'><thead style='background-color: white'><tr><th>user_id</th><th>mac_address</th><th>date</th><th>workout_id</th><th>minutes_in_gym</th><th>minutes_exercising</th></tr></thead><tbody><tr><td>12140</td><td>ae:ec:f6:48:ca:f7</td><td>2023-03-11</td><td>1</td><td>45.0</td><td>35.0</td></tr><tr><td>14508</td><td>df:f9:dc:5e:e2:a8</td><td>2023-03-12</td><td>1</td><td>43.0</td><td>35.0</td></tr><tr><td>12227</td><td>57:24:ac:8c:75:ea</td><td>2023-03-11</td><td>1</td><td>75.0</td><td>65.0</td></tr><tr><td>15149</td><td>de:c0:cd:a7:71:f4</td><td>2023-03-12</td><td>1</td><td>70.0</td><td>60.0</td></tr><tr><td>13937</td><td>dd:96:be:e9:1e:f4</td><td>2023-03-12</td><td>1</td><td>48.0</td><td>40.0</td></tr><tr><td>14232</td><td>dd:45:d2:37:a8:0e</td><td>2023-03-12</td><td>1</td><td>55.0</td><td>46.0</td></tr><tr><td>13559</td><td>36:1f:d9:d3:e8:0d</td><td>2023-03-11</td><td>1</td><td>75.0</td><td>65.0</td></tr><tr><td>13559</td><td>36:1f:d9:d3:e8:0d</td><td>2023-03-11</td><td>1</td><td>60.0</td><td>50.0</td></tr><tr><td>14633</td><td>1d:69:69:75:d0:aa</td><td>2023-03-12</td><td>1</td><td>40.0</td><td>30.0</td></tr><tr><td>13937</td><td>dd:96:be:e9:1e:f4</td><td>2023-03-12</td><td>1</td><td>71.0</td><td>60.0</td></tr><tr><td>11745</td><td>14:cd:d6:db:70:f6</td><td>2023-03-11</td><td>1</td><td>55.0</td><td>45.0</td></tr><tr><td>12227</td><td>57:24:ac:8c:75:ea</td><td>2023-03-11</td><td>1</td><td>72.0</td><td>63.0</td></tr><tr><td>11745</td><td>14:cd:d6:db:70:f6</td><td>2023-03-11</td><td>1</td><td>70.0</td><td>60.0</td></tr><tr><td>14633</td><td>1d:69:69:75:d0:aa</td><td>2023-03-12</td><td>1</td><td>50.0</td><td>40.0</td></tr><tr><td>12474</td><td>4c:c5:9f:cb:13:bd</td><td>2023-03-11</td><td>1</td><td>75.0</td><td>65.0</td></tr><tr><td>14508</td><td>df:f9:dc:5e:e2:a8</td><td>2023-03-12</td><td>1</td><td>60.0</td><td>50.0</td></tr></tbody></table></div>"
      ]
     },
     "metadata": {
      "application/vnd.databricks.v1+output": {
       "addedWidgets": {},
       "aggData": [],
       "aggError": "",
       "aggOverflow": false,
       "aggSchema": [],
       "aggSeriesLimitReached": false,
       "aggType": "",
       "arguments": {},
       "columnCustomDisplayInfos": {},
       "data": [
        [
         "12140",
         "ae:ec:f6:48:ca:f7",
         "2023-03-11",
         "1",
         45.0,
         35.0
        ],
        [
         "14508",
         "df:f9:dc:5e:e2:a8",
         "2023-03-12",
         "1",
         43.0,
         35.0
        ],
        [
         "12227",
         "57:24:ac:8c:75:ea",
         "2023-03-11",
         "1",
         75.0,
         65.0
        ],
        [
         "15149",
         "de:c0:cd:a7:71:f4",
         "2023-03-12",
         "1",
         70.0,
         60.0
        ],
        [
         "13937",
         "dd:96:be:e9:1e:f4",
         "2023-03-12",
         "1",
         48.0,
         40.0
        ],
        [
         "14232",
         "dd:45:d2:37:a8:0e",
         "2023-03-12",
         "1",
         55.0,
         46.0
        ],
        [
         "13559",
         "36:1f:d9:d3:e8:0d",
         "2023-03-11",
         "1",
         75.0,
         65.0
        ],
        [
         "13559",
         "36:1f:d9:d3:e8:0d",
         "2023-03-11",
         "1",
         60.0,
         50.0
        ],
        [
         "14633",
         "1d:69:69:75:d0:aa",
         "2023-03-12",
         "1",
         40.0,
         30.0
        ],
        [
         "13937",
         "dd:96:be:e9:1e:f4",
         "2023-03-12",
         "1",
         71.0,
         60.0
        ],
        [
         "11745",
         "14:cd:d6:db:70:f6",
         "2023-03-11",
         "1",
         55.0,
         45.0
        ],
        [
         "12227",
         "57:24:ac:8c:75:ea",
         "2023-03-11",
         "1",
         72.0,
         63.0
        ],
        [
         "11745",
         "14:cd:d6:db:70:f6",
         "2023-03-11",
         "1",
         70.0,
         60.0
        ],
        [
         "14633",
         "1d:69:69:75:d0:aa",
         "2023-03-12",
         "1",
         50.0,
         40.0
        ],
        [
         "12474",
         "4c:c5:9f:cb:13:bd",
         "2023-03-11",
         "1",
         75.0,
         65.0
        ],
        [
         "14508",
         "df:f9:dc:5e:e2:a8",
         "2023-03-12",
         "1",
         60.0,
         50.0
        ]
       ],
       "datasetInfos": [],
       "dbfsResultPath": null,
       "isJsonSchema": true,
       "metadata": {},
       "overflow": false,
       "plotOptions": {
        "customPlotOptions": {},
        "displayType": "table",
        "pivotAggregation": null,
        "pivotColumns": null,
        "xColumns": null,
        "yColumns": null
       },
       "removedWidgets": [],
       "schema": [
        {
         "metadata": "{}",
         "name": "user_id",
         "type": "\"string\""
        },
        {
         "metadata": "{}",
         "name": "mac_address",
         "type": "\"string\""
        },
        {
         "metadata": "{}",
         "name": "date",
         "type": "\"date\""
        },
        {
         "metadata": "{}",
         "name": "workout_id",
         "type": "\"string\""
        },
        {
         "metadata": "{}",
         "name": "minutes_in_gym",
         "type": "\"double\""
        },
        {
         "metadata": "{}",
         "name": "minutes_exercising",
         "type": "\"double\""
        }
       ],
       "type": "table"
      }
     },
     "output_type": "display_data"
    }
   ],
   "source": [
    "gym_summary = GymSummaryReport()\n",
    "gym_summary.ingest_gym_summary()"
   ]
  }
 ],
 "metadata": {
  "application/vnd.databricks.v1+notebook": {
   "computePreferences": null,
   "dashboards": [],
   "environmentMetadata": {
    "base_environment": "",
    "client": "1"
   },
   "language": "python",
   "notebookMetadata": {
    "mostRecentlyExecutedCommandWithImplicitDF": {
     "commandId": 1172548824997627,
     "dataframes": [
      "_sqldf"
     ]
    },
    "pythonIndentUnit": 4
   },
   "notebookName": "Gold Layer Data Ingestion",
   "widgets": {}
  },
  "language_info": {
   "name": "python"
  }
 },
 "nbformat": 4,
 "nbformat_minor": 0
}