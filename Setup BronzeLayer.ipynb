{
 "cells": [
  {
   "cell_type": "code",
   "execution_count": 0,
   "metadata": {
    "application/vnd.databricks.v1+cell": {
     "cellMetadata": {
      "byteLimit": 2048000,
      "rowLimit": 10000
     },
     "inputWidgets": {},
     "nuid": "d8b5ae07-d7da-4bb1-8289-815a8e7bd3b2",
     "showTitle": false,
     "tableResultSettingsMap": {},
     "title": ""
    }
   },
   "outputs": [],
   "source": [
    "# Drop the schema if exists\n",
    "spark.sql(\"drop database if exists dev.swatch_raw cascade\");"
   ]
  },
  {
   "cell_type": "code",
   "execution_count": 0,
   "metadata": {
    "application/vnd.databricks.v1+cell": {
     "cellMetadata": {
      "byteLimit": 2048000,
      "rowLimit": 10000
     },
     "inputWidgets": {},
     "nuid": "93d36c9b-046b-4068-8a55-c8c4a99da2fc",
     "showTitle": false,
     "tableResultSettingsMap": {},
     "title": ""
    }
   },
   "outputs": [],
   "source": [
    "# Setup the Bronze/Raw Layer\n",
    "\n",
    "class SetupBronzeLayer:\n",
    "     def __init__(self):\n",
    "        self.catalog_name = 'dev'\n",
    "        self.bronze_schema_name = 'swatch_raw'\n",
    "        self.device_registration_table_name = 'device_registration'\n",
    "        self.gym_attendance_table_name = 'gym_attendance'\n",
    "        self.bpm_table_name = 'bpm'\n",
    "        self.user_profile_table_name = 'user_profile'\n",
    "        self.workout_session_table_name = 'workout_session'\n",
    "        self.device_registration_landing_zone_name = 'device_registration_landing_zone'\n",
    "        self.gym_attendance_landing_zone_name = 'gym_attendance_landing_zone'\n",
    "\n",
    "# Create the tables\n",
    "class CreateBronzeLayerTables(SetupBronzeLayer):\n",
    "    def __init__(self):\n",
    "        super().__init__()\n",
    "\n",
    "    def create_bronze_layer_schema(self):\n",
    "        spark.sql(f\"create database if not exists {self.catalog_name}.{self.bronze_schema_name}\")\n",
    "        print(f\"Schema Created - {self.catalog_name}.{self.bronze_schema_name}\\n\")\n",
    "    \n",
    "    def create_device_registration_table(self):\n",
    "        spark.sql(f\"\"\"\n",
    "                  create table if not exists {self.catalog_name}.{self.bronze_schema_name}.{self.device_registration_table_name}\n",
    "                  (\n",
    "                    user_id string,\n",
    "                    device_id long,\n",
    "                    mac_address string,\n",
    "                    registration_timestamp long\n",
    "                  ) using delta\n",
    "                  \"\"\")\n",
    "                \n",
    "        print(f\"Table Created - {self.catalog_name}.{self.bronze_schema_name}.{self.device_registration_table_name}\")\n",
    "    \n",
    "    \n",
    "    def create_gym_attendance_table(self):\n",
    "        spark.sql(f\"\"\"\n",
    "                  create table if not exists {self.catalog_name}.{self.bronze_schema_name}.{self.gym_attendance_table_name}(\n",
    "                      mac_address string,\n",
    "                      gym_id string,\n",
    "                      login_time long,\n",
    "                      logout_time long\n",
    "                  ) using delta\n",
    "                  \"\"\")\n",
    "        print(f\"Table Created - {self.catalog_name}.{self.bronze_schema_name}.{self.gym_attendance_table_name}\")\n",
    "\n",
    "    def create_bpm_table(self):\n",
    "        spark.sql(f\"\"\" \n",
    "                  create table if not exists {self.catalog_name}.{self.bronze_schema_name}.{self.bpm_table_name}\n",
    "                  (\n",
    "                   device_id long,\n",
    "                   heartrate double,\n",
    "                   time long\n",
    "                  ) using delta\n",
    "                  \"\"\")\n",
    "        print(f\"Table Created - {self.catalog_name}.{self.bronze_schema_name}.{self.bpm_table_name}\")\n",
    "    \n",
    "    def create_user_profile_table(self):\n",
    "        spark.sql(f\"\"\" \n",
    "                  create table if not exists {self.catalog_name}.{self.bronze_schema_name}.{self.user_profile_table_name}\n",
    "                  (\n",
    "                    user_id string,\n",
    "                    update_type string,\n",
    "                    timestamp long,\n",
    "                    dob string,\n",
    "                    sex string,\n",
    "                    gender string,\n",
    "                    first_name string,\n",
    "                    last_name string,\n",
    "                    address STRUCT<street_address: STRING, city: STRING, state: STRING, zip: STRING>\n",
    "                  ) using delta\n",
    "                  \"\"\")\n",
    "        print(f\"Table Created - {self.catalog_name}.{self.bronze_schema_name}.{self.user_profile_table_name}\")\n",
    "    \n",
    "    def create_workout_session_table(self):\n",
    "        spark.sql(f\"\"\" \n",
    "                  create table if not exists {self.catalog_name}.{self.bronze_schema_name}.{self.workout_session_table_name}\n",
    "                  (\n",
    "                      user_id string,\n",
    "                      workout_id string,\n",
    "                      timestamp long,\n",
    "                      action string,\n",
    "                      session_id int\n",
    "                  ) using delta\n",
    "                  \"\"\")\n",
    "        print(f\"Table Created - {self.catalog_name}.{self.bronze_schema_name}.{self.workout_session_table_name}\")\n",
    "\n",
    "    \n",
    "\n",
    "    def create_bronze_layer_tables(self):\n",
    "        self.create_bronze_layer_schema()\n",
    "        self.create_device_registration_table()\n",
    "        self.create_gym_attendance_table()\n",
    "        self.create_bpm_table()\n",
    "        self.create_user_profile_table()\n",
    "        self.create_workout_session_table() \n",
    "        print(\"Bronze layer tables created successfully ! \\n\")\n",
    "\n",
    "\n",
    "# Create the checkpoint volumes\n",
    "class  CreateBronzeLayerCheckpointDirs(SetupBronzeLayer):\n",
    "    def __init__(self):\n",
    "        super().__init__()\n",
    "\n",
    "    def create_device_registration_table_checkpoint(self):\n",
    "        spark.sql(f\"create external volume if not exists {self.catalog_name}.{self.bronze_schema_name}.{self.device_registration_table_name}_checkpoint location 'abfss://smart-watch-analytics@dbstorageact.dfs.core.windows.net/swatch-checkpoint/device_registration/' \")\n",
    "                \n",
    "        print(f\"Checkpoint Volume Created - {self.catalog_name}.{self.bronze_schema_name}.{self.device_registration_table_name}_checkpoint\")\n",
    "    \n",
    "    def create_gym_attendance_table_checkpoint(self):\n",
    "        spark.sql(f\"create external volume if not exists {self.catalog_name}.{self.bronze_schema_name}.{self.gym_attendance_table_name}_checkpoint location 'abfss://smart-watch-analytics@dbstorageact.dfs.core.windows.net/swatch-checkpoint/gym_attendance/' \")\n",
    "                \n",
    "        print(f\"Checkpoint Volume Created - {self.catalog_name}.{self.bronze_schema_name}.{self.gym_attendance_table_name}_checkpoint\")\n",
    "\n",
    "    def create_bpm_table_checkpoint(self):    \n",
    "        spark.sql(f\"create external volume if not exists {self.catalog_name}.{self.bronze_schema_name}.{self.bpm_table_name}_checkpoint location 'abfss://smart-watch-analytics@dbstorageact.dfs.core.windows.net/swatch-checkpoint/bpm/' \")\n",
    "                \n",
    "        print(f\"Checkpoint Volume Created - {self.catalog_name}.{self.bronze_schema_name}.{self.bpm_table_name}_checkpoint\")\n",
    "    \n",
    "    def create_user_profile_table_checkpoint(self):                 \n",
    "        spark.sql(f\"create external volume if not exists {self.catalog_name}.{self.bronze_schema_name}.{self.user_profile_table_name}_checkpoint location 'abfss://smart-watch-analytics@dbstorageact.dfs.core.windows.net/swatch-checkpoint/user_profile/' \")\n",
    "                \n",
    "        print(f\"Checkpoint Volume Created - {self.catalog_name}.{self.bronze_schema_name}.{self.user_profile_table_name}_checkpoint\")\n",
    "    \n",
    "    def create_workout_session_table_checkpoint(self):\n",
    "        spark.sql(f\"create external volume if not exists {self.catalog_name}.{self.bronze_schema_name}.{self.workout_session_table_name}_checkpoint location 'abfss://smart-watch-analytics@dbstorageact.dfs.core.windows.net/swatch-checkpoint/workout_session/' \")\n",
    "                \n",
    "        print(f\"Checkpoint Volume Created - {self.catalog_name}.{self.bronze_schema_name}.{self.workout_session_table_name}_checkpoint\")\n",
    "\n",
    "\n",
    "    def create_bronze_layer_checkpoint_volumes(self):\n",
    "        self.create_device_registration_table_checkpoint()\n",
    "        self.create_gym_attendance_table_checkpoint()\n",
    "        self.create_bpm_table_checkpoint()\n",
    "        self.create_user_profile_table_checkpoint()\n",
    "        self.create_workout_session_table_checkpoint() \n",
    "        print(\"Bronze layer checkpoint volumes created successfully ! \\n\")\n",
    "\n",
    "class CreateLandingZoneVolumes(SetupBronzeLayer):\n",
    "    def __init__(self):\n",
    "        super().__init__()\n",
    "\n",
    "    def create_device_registration_landing_dir(self):\n",
    "        spark.sql(f\"create external volume if not exists {self.catalog_name}.{self.bronze_schema_name}.{self.device_registration_landing_zone_name} location 'abfss://smart-watch-analytics@dbstorageact.dfs.core.windows.net/swatch-data/landing_zone/devices/' \")\n",
    "                \n",
    "        print(f\"Landing Zone Volume Created - {self.catalog_name}.{self.bronze_schema_name}.{self.device_registration_table_name}\")\n",
    "    \n",
    "    def create_gym_attendance_table_checkpoint(self):\n",
    "        spark.sql(f\"create external volume if not exists {self.catalog_name}.{self.bronze_schema_name}.{self.gym_attendance_landing_zone_name} location 'abfss://smart-watch-analytics@dbstorageact.dfs.core.windows.net/swatch-data/landing_zone/gym/' \")\n",
    "                \n",
    "        print(f\"Landing Zone Volume Created - {self.catalog_name}.{self.bronze_schema_name}.{self.gym_attendance_table_name}\")\n",
    "\n",
    "\n",
    "    def create_landing_dir(self):\n",
    "        self.create_device_registration_landing_dir()\n",
    "        self.create_gym_attendance_table_checkpoint()\n",
    "        print(\"Bronze layer Landing Zones created successfully ! \")\n"
   ]
  },
  {
   "cell_type": "code",
   "execution_count": 0,
   "metadata": {
    "application/vnd.databricks.v1+cell": {
     "cellMetadata": {
      "byteLimit": 2048000,
      "rowLimit": 10000
     },
     "inputWidgets": {},
     "nuid": "272e7f00-7ad3-4d31-a04e-4ee2ce89a7a7",
     "showTitle": false,
     "tableResultSettingsMap": {},
     "title": ""
    }
   },
   "outputs": [
    {
     "output_type": "stream",
     "name": "stdout",
     "output_type": "stream",
     "text": [
      "Schema Created - dev.swatch_raw\n\nTable Created - dev.swatch_raw.device_registration\nTable Created - dev.swatch_raw.gym_attendance\nTable Created - dev.swatch_raw.bpm\nTable Created - dev.swatch_raw.user_profile\nTable Created - dev.swatch_raw.workout_session\nBronze layer tables created successfully ! \n\nCheckpoint Volume Created - dev.swatch_raw.device_registration_checkpoint\nCheckpoint Volume Created - dev.swatch_raw.gym_attendance_checkpoint\nCheckpoint Volume Created - dev.swatch_raw.bpm_checkpoint\nCheckpoint Volume Created - dev.swatch_raw.user_profile_checkpoint\nCheckpoint Volume Created - dev.swatch_raw.workout_session_checkpoint\nBronze layer checkpoint volumes created successfully ! \n\nLanding Zone Volume Created - dev.swatch_raw.device_registration\nLanding Zone Volume Created - dev.swatch_raw.gym_attendance\nBronze layer Landing Zones created successfully ! \n"
     ]
    }
   ],
   "source": [
    "tables = CreateBronzeLayerTables()\n",
    "tables.create_bronze_layer_tables()\n",
    "\n",
    "checkpoints = CreateBronzeLayerCheckpointDirs()\n",
    "checkpoints.create_bronze_layer_checkpoint_volumes()\n",
    "\n",
    "landingZones = CreateLandingZoneVolumes()\n",
    "landingZones.create_landing_dir()"
   ]
  }
 ],
 "metadata": {
  "application/vnd.databricks.v1+notebook": {
   "computePreferences": null,
   "dashboards": [],
   "environmentMetadata": {
    "base_environment": "",
    "client": "1"
   },
   "language": "python",
   "notebookMetadata": {
    "mostRecentlyExecutedCommandWithImplicitDF": {
     "commandId": 3207015741031917,
     "dataframes": [
      "_sqldf"
     ]
    },
    "pythonIndentUnit": 4
   },
   "notebookName": "Setup BronzeLayer",
   "widgets": {}
  },
  "language_info": {
   "name": "python"
  }
 },
 "nbformat": 4,
 "nbformat_minor": 0
}